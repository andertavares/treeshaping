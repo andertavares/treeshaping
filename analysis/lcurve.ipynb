{
 "cells": [
  {
   "cell_type": "code",
   "execution_count": null,
   "metadata": {},
   "outputs": [],
   "source": [
    "import numpy as np\n",
    "import os\n",
    "import statistics\n",
    "\n",
    "basedir = '../results/sdumont/lambda_train-vs-selfplay/basesWorkers8x8/fmaterialdistancehp_sCC,CE,FC,FE,AV-,AV+,HP-,HP+,R,M_rwinlossdraw/m500/d10/a0.01_e0.1_g1.0_l0.9/rep4'\n",
    "\n",
    "files = [os.path.join(basedir, 'lcurve-vs-A3N_p1_m%d.csv' % point) for point in range(10, 501, 10)]\n",
    "\n",
    "points = np.array([statistics.average_score([f], 1) for f in files])\n",
    "points"
   ]
  }
 ],
 "metadata": {
  "kernelspec": {
   "display_name": "Python 3",
   "language": "python",
   "name": "python3"
  },
  "language_info": {
   "codemirror_mode": {
    "name": "ipython",
    "version": 3
   },
   "file_extension": ".py",
   "mimetype": "text/x-python",
   "name": "python",
   "nbconvert_exporter": "python",
   "pygments_lexer": "ipython3",
   "version": "3.7.4"
  }
 },
 "nbformat": 4,
 "nbformat_minor": 2
}
