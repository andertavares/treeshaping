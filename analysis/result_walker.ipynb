{
 "cells": [
  {
   "cell_type": "code",
   "execution_count": null,
   "metadata": {},
   "outputs": [],
   "source": [
    "# dir structure is\n",
    "# basedir/map/fmaterialdistancehp_sSTRAT_rwinlossdraw/mTRAIN/dDECISION/aALPHA_eEPSILON_gGAMMA_lLAMBDA/repREP\n",
    "\n",
    "# example:\n",
    "# results/selfplay/TwoBasesBarracks16x16/fmaterialdistancehp_sCC,CE,FC,FE,AV-,AV+,HP-,HP+,R,M_rwinlossdraw/m1000/d10/a0.01_e0.1_g1_l0/rep0\n",
    "\n",
    "import os\n",
    "import glob\n",
    "\n",
    "#os.chdir('..') # (tested and worked) uncomment to test from project root dir. also remove the '..' on the glob call \n",
    "\n",
    "# the last parameter are actually 7 parameters expanded from a list of 7 asterisks\n",
    "for rep_dir in glob.glob(os.path.join('..', 'results', 'decision_interval', *['*'] * 7)):\n",
    "    dirs = rep_dir.split(os.sep)\n",
    "    param_dirs = dirs[-7:] # ignores directories before the mapname\n",
    "    \n",
    "    # gets all directory parts from the parameters and post-process those with appended letters and symbols\n",
    "    opp, mapname, feat_strat_rwd, matches, dec_int, rlparams, rep = param_dirs\n",
    "    \n",
    "    # feature, strategy and reward are obtained by removing the first letter after spliting on _\n",
    "    feature, strat, reward = (x[1:] for x in feat_strat_rwd.split('_'))\n",
    "    \n",
    "    # matches and dec_int are obtained by removing the first letter on the dir name\n",
    "    matches, dec_int = matches[1:], dec_int[1:]\n",
    "    \n",
    "    # alpha, epsilon, gamma, lambda are obtained by removing the first letter after spliting on _\n",
    "    alpha, epsilon, gamma, _lamdba = (x[1:] for x in rlparams.split('_'))\n",
    "    \n",
    "    #Ok\n",
    "    #print(opp, mapname, feature,strat,reward,matches,dec_int,alpha,epsilon,gamma,_lamdba)\n",
    "    \n",
    "    # TODO collect results and write the .csv for each experiment\n",
    "    \n",
    "    \n"
   ]
  }
 ],
 "metadata": {
  "kernelspec": {
   "display_name": "Python 3",
   "language": "python",
   "name": "python3"
  },
  "language_info": {
   "codemirror_mode": {
    "name": "ipython",
    "version": 3
   },
   "file_extension": ".py",
   "mimetype": "text/x-python",
   "name": "python",
   "nbconvert_exporter": "python",
   "pygments_lexer": "ipython3",
   "version": "3.7.3"
  }
 },
 "nbformat": 4,
 "nbformat_minor": 2
}
