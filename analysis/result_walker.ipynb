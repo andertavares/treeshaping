{
 "cells": [
  {
   "cell_type": "code",
   "execution_count": null,
   "metadata": {},
   "outputs": [],
   "source": [
    "# dir structure is\n",
    "# basedir/map/fmaterialdistancehp_sSTRAT_rwinlossdraw/mTRAIN/dDECISION/aALPHA_eEPSILON_gGAMMA_lLAMBDA/repREP\n",
    "\n",
    "# example:\n",
    "# results/selfplay/TwoBasesBarracks16x16/fmaterialdistancehp_sCC,CE,FC,FE,AV-,AV+,HP-,HP+,R,M_rwinlossdraw/m1000/d10/a0.01_e0.1_g1_l0/rep0\n",
    "\n",
    "import os\n",
    "import glob\n",
    "\n",
    "#os.chdir('..') # (tested and worked) uncomment to test from project root dir. also remove the '..' on the glob call \n",
    "\n",
    "# the last parameter are actually 7 parameters expanded from a list of 7 asterisks\n",
    "for rep_dir in glob.glob(os.path.join('..', 'results', 'decision_interval', *['*'] * 7)):\n",
    "    dirs = rep_dir.split(os.sep)\n",
    "    param_dirs = dirs[-6:] # ignores directories before the mapname\n",
    "    print(param_dirs)\n",
    "    \n",
    "    # TODO: reverse-engineer the parameters from param_dirs\n",
    "\n"
   ]
  }
 ],
 "metadata": {
  "kernelspec": {
   "display_name": "Python 3",
   "language": "python",
   "name": "python3"
  },
  "language_info": {
   "codemirror_mode": {
    "name": "ipython",
    "version": 3
   },
   "file_extension": ".py",
   "mimetype": "text/x-python",
   "name": "python",
   "nbconvert_exporter": "python",
   "pygments_lexer": "ipython3",
   "version": "3.7.3"
  }
 },
 "nbformat": 4,
 "nbformat_minor": 2
}
