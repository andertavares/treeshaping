{
 "cells": [
  {
   "cell_type": "code",
   "execution_count": 3,
   "metadata": {
    "collapsed": true,
    "pycharm": {
     "is_executing": false
    }
   },
   "outputs": [],
   "source": [
    "# draft of a script to generate runs to fill the missing learning curves\n",
    "\n",
    "import os\n",
    "params = {\n",
    "    'basedir': 'results/sdumont/alphas/selfplay/TwoBasesBarracks16x16/fmaterialdistancehp_sCC,CE,FC,FE,AV-,AV+,HP-,HP+,R,M_rwinlossdraw/m5000/d10/a1E-5_e0.1_g1.0_l0.0/',\n",
    "    'opponent': 'A3N',\n",
    "    'test_matches': 20,\n",
    "    'train_matches': 5000,\n",
    "    'checkpoint': 20,\n",
    "    'position': [0, 1],\n",
    "    'initial_rep': 0,\n",
    "    'final_rep': 4\n",
    "}\n",
    "\n",
    "for c in range(params['checkpoint'], params['train_matches'] + 1, params['checkpoint']):\n",
    "    for rep in range(params['initial_rep'], params['final_rep'] + 1):\n",
    "        generated = False  # used to avoid duplicate command generation\n",
    "\n",
    "        for position in [0, 1]:\n",
    "\n",
    "            # skips generating for position 1 if already generated for 0\n",
    "            # (the data generation program takes care of filling data for both positions)\n",
    "            if generated:\n",
    "                continue\n",
    "\n",
    "            filename = os.path.join(\n",
    "                params['basedir'],\n",
    "                'rep%d' % rep,\n",
    "                'lcurve-vs-%s_p%d_m%d.csv' % (params['opponent'], position, c)\n",
    "            )\n",
    "\n",
    "            if not os.path.exists(filename):\n",
    "                print('./learningcurve.sh -d %s --test_matches %d --checkpoint %d -i %d -f %d' % (\n",
    "                    params['basedir'], params['test_matches'], c, rep, rep\n",
    "                ))\n",
    "                generated = True\n",
    "        \n"
   ]
  }
 ],
 "metadata": {
  "kernelspec": {
   "display_name": "Python 3",
   "language": "python",
   "name": "python3"
  },
  "language_info": {
   "codemirror_mode": {
    "name": "ipython",
    "version": 2
   },
   "file_extension": ".py",
   "mimetype": "text/x-python",
   "name": "python",
   "nbconvert_exporter": "python",
   "pygments_lexer": "ipython2",
   "version": "2.7.6"
  },
  "pycharm": {
   "stem_cell": {
    "cell_type": "raw",
    "source": [],
    "metadata": {
     "collapsed": false
    }
   }
  }
 },
 "nbformat": 4,
 "nbformat_minor": 0
}